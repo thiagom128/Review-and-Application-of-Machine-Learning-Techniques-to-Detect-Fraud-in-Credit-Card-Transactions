{
 "cells": [
  {
   "cell_type": "code",
   "execution_count": 1,
   "id": "e7bfb724",
   "metadata": {
    "colab": {
     "base_uri": "https://localhost:8080/"
    },
    "id": "e7bfb724",
    "outputId": "44c5fcb9-a2d1-45bd-f98a-b7cb21fef962"
   },
   "outputs": [
    {
     "name": "stdout",
     "output_type": "stream",
     "text": [
      "Requirement already satisfied: scikeras in c:\\users\\thiago\\anaconda3\\lib\\site-packages (0.12.0)\n",
      "Requirement already satisfied: packaging>=0.21 in c:\\users\\thiago\\anaconda3\\lib\\site-packages (from scikeras) (22.0)\n",
      "Requirement already satisfied: scikit-learn>=1.0.0 in c:\\users\\thiago\\anaconda3\\lib\\site-packages (from scikeras) (1.2.1)\n",
      "Requirement already satisfied: tensorflow-io-gcs-filesystem<0.32,>=0.23.1 in c:\\users\\thiago\\anaconda3\\lib\\site-packages (from scikeras) (0.31.0)\n",
      "Requirement already satisfied: threadpoolctl>=2.0.0 in c:\\users\\thiago\\anaconda3\\lib\\site-packages (from scikit-learn>=1.0.0->scikeras) (2.2.0)\n",
      "Requirement already satisfied: scipy>=1.3.2 in c:\\users\\thiago\\anaconda3\\lib\\site-packages (from scikit-learn>=1.0.0->scikeras) (1.10.0)\n",
      "Requirement already satisfied: numpy>=1.17.3 in c:\\users\\thiago\\anaconda3\\lib\\site-packages (from scikit-learn>=1.0.0->scikeras) (1.23.5)\n",
      "Requirement already satisfied: joblib>=1.1.1 in c:\\users\\thiago\\anaconda3\\lib\\site-packages (from scikit-learn>=1.0.0->scikeras) (1.1.1)\n"
     ]
    }
   ],
   "source": [
    "!pip install scikeras"
   ]
  },
  {
   "cell_type": "code",
   "execution_count": 2,
   "id": "900833f1",
   "metadata": {
    "colab": {
     "base_uri": "https://localhost:8080/"
    },
    "id": "900833f1",
    "outputId": "89dae5c2-5c18-496c-b6aa-8a743d92f3e4"
   },
   "outputs": [
    {
     "name": "stdout",
     "output_type": "stream",
     "text": [
      "WARNING:tensorflow:From C:\\Users\\Thiago\\anaconda3\\lib\\site-packages\\keras\\src\\losses.py:2976: The name tf.losses.sparse_softmax_cross_entropy is deprecated. Please use tf.compat.v1.losses.sparse_softmax_cross_entropy instead.\n",
      "\n"
     ]
    }
   ],
   "source": [
    "import numpy as np\n",
    "import pandas as pd\n",
    "import tensorflow as tf\n",
    "from sklearn.model_selection import StratifiedKFold, RandomizedSearchCV, train_test_split\n",
    "from sklearn.preprocessing import StandardScaler, LabelEncoder\n",
    "from sklearn.metrics import roc_auc_score, accuracy_score, confusion_matrix, roc_curve, precision_score, recall_score, f1_score\n",
    "from sklearn.utils import shuffle\n",
    "from imblearn.over_sampling import SMOTE\n",
    "from sklearn.decomposition import PCA\n",
    "from sklearn.model_selection import  GridSearchCV\n",
    "from tensorflow.keras.models import Sequential\n",
    "from tensorflow.keras.layers import Dense, Conv1D, Flatten, Dropout\n",
    "import matplotlib.pyplot as plt\n",
    "import warnings\n",
    "import time\n",
    "import gc\n",
    "import datetime\n",
    "\n",
    "pd.set_option('display.float_format', lambda x: '%.3f' %x)\n",
    "warnings.filterwarnings(\"ignore\")"
   ]
  },
  {
   "cell_type": "code",
   "execution_count": 3,
   "id": "9d0a4b04",
   "metadata": {
    "id": "9d0a4b04"
   },
   "outputs": [],
   "source": [
    "##### Memory reduction script 1\n",
    "\n",
    "def sd(col, max_loss_limit=0.001, avg_loss_limit=0.001, na_loss_limit=0, n_uniq_loss_limit=0, fillna=0):\n",
    "    \"\"\"\n",
    "    max_loss_limit - don't allow any float to lose precision more than this value. Any values are ok for GBT algorithms as long as you don't unique values.\n",
    "                     See https://en.wikipedia.org/wiki/Half-precision_floating-point_format#Precision_limitations_on_decimal_values_in_[0,_1]\n",
    "    avg_loss_limit - same but calculates avg throughout the series.\n",
    "    na_loss_limit - not really useful.\n",
    "    n_uniq_loss_limit - very important parameter. If you have a float field with very high cardinality you can set this value to something like n_records * 0.01 in order to allow some field relaxing.\n",
    "    \"\"\"\n",
    "    is_float = str(col.dtypes)[:5] == 'float'\n",
    "    na_count = col.isna().sum()\n",
    "    n_uniq = col.nunique(dropna=False)\n",
    "    try_types = ['float16', 'float32']\n",
    "\n",
    "    if na_count <= na_loss_limit:\n",
    "        try_types = ['int8', 'int16', 'float16', 'int32', 'float32']\n",
    "\n",
    "    for type in try_types:\n",
    "        col_tmp = col\n",
    "\n",
    "        # float to int conversion => try to round to minimize casting error\n",
    "        if is_float and (str(type)[:3] == 'int'):\n",
    "            col_tmp = col_tmp.copy().fillna(fillna).round()\n",
    "\n",
    "        col_tmp = col_tmp.astype(type)\n",
    "        max_loss = (col_tmp - col).abs().max()\n",
    "        avg_loss = (col_tmp - col).abs().mean()\n",
    "        na_loss = np.abs(na_count - col_tmp.isna().sum())\n",
    "        n_uniq_loss = np.abs(n_uniq - col_tmp.nunique(dropna=False))\n",
    "\n",
    "        if max_loss <= max_loss_limit and avg_loss <= avg_loss_limit and na_loss <= na_loss_limit and n_uniq_loss <= n_uniq_loss_limit:\n",
    "            return col_tmp\n",
    "\n",
    "    # field can't be converted\n",
    "    return col\n",
    "\n",
    "##### Memory reduction script 2\n",
    "\n",
    "def reduce_mem_usage_sd(df, deep=True, verbose=False, obj_to_cat=False):\n",
    "    numerics = ['int16', 'uint16', 'int32', 'uint32', 'int64', 'uint64', 'float16', 'float32', 'float64']\n",
    "    start_mem = df.memory_usage(deep=deep).sum() / 1024 ** 2\n",
    "    for col in df.columns:\n",
    "        col_type = df[col].dtypes\n",
    "\n",
    "        # collect stats\n",
    "        na_count = df[col].isna().sum()\n",
    "        n_uniq = df[col].nunique(dropna=False)\n",
    "\n",
    "        # numerics\n",
    "        if col_type in numerics:\n",
    "            df[col] = sd(df[col])\n",
    "\n",
    "        # strings\n",
    "        if (col_type == 'object') and obj_to_cat:\n",
    "            df[col] = df[col].astype('category')\n",
    "\n",
    "        if verbose:\n",
    "            print(f'Column {col}: {col_type} -> {df[col].dtypes}, na_count={na_count}, n_uniq={n_uniq}')\n",
    "        new_na_count = df[col].isna().sum()\n",
    "        if (na_count != new_na_count):\n",
    "            print(f'Warning: column {col}, {col_type} -> {df[col].dtypes} lost na values. Before: {na_count}, after: {new_na_count}')\n",
    "        new_n_uniq = df[col].nunique(dropna=False)\n",
    "        if (n_uniq != new_n_uniq):\n",
    "            print(f'Warning: column {col}, {col_type} -> {df[col].dtypes} lost unique values. Before: {n_uniq}, after: {new_n_uniq}')\n",
    "\n",
    "    end_mem = df.memory_usage(deep=deep).sum() / 1024 ** 2\n",
    "    percent = 100 * (start_mem - end_mem) / start_mem\n",
    "    if verbose:\n",
    "        print('Mem. usage decreased from {:5.2f} Mb to {:5.2f} Mb ({:.1f}% reduction)'.format(start_mem, end_mem, percent))\n",
    "    return df\n",
    "\n",
    "##### Memory reduction script 3\n",
    "# https://www.kaggle.com/kyakovlev/ieee-data-minification\n",
    "def reduce_mem_usage(df, verbose=True):\n",
    "    numerics = ['int16', 'int32', 'int64', 'float16', 'float32', 'float64']\n",
    "    start_mem = df.memory_usage(deep=True).sum() / 1024 ** 2 # just added\n",
    "    for col in df.columns:\n",
    "        col_type = df[col].dtypes\n",
    "        if col_type in numerics:\n",
    "            c_min = df[col].min()\n",
    "            c_max = df[col].max()\n",
    "            if str(col_type)[:3] == 'int':\n",
    "                if c_min > np.iinfo(np.int8).min and c_max < np.iinfo(np.int8).max:\n",
    "                    df[col] = df[col].astype(np.int8)\n",
    "                elif c_min > np.iinfo(np.int16).min and c_max < np.iinfo(np.int16).max:\n",
    "                    df[col] = df[col].astype(np.int16)\n",
    "                elif c_min > np.iinfo(np.int32).min and c_max < np.iinfo(np.int32).max:\n",
    "                    df[col] = df[col].astype(np.int32)\n",
    "                elif c_min > np.iinfo(np.int64).min and c_max < np.iinfo(np.int64).max:\n",
    "                    df[col] = df[col].astype(np.int64)\n",
    "            else:\n",
    "                if c_min > np.finfo(np.float16).min and c_max < np.finfo(np.float16).max:\n",
    "                    df[col] = df[col].astype(np.float16)\n",
    "                elif c_min > np.finfo(np.float32).min and c_max < np.finfo(np.float32).max:\n",
    "                    df[col] = df[col].astype(np.float32)\n",
    "                else:\n",
    "                    df[col] = df[col].astype(np.float64)\n",
    "    end_mem = df.memory_usage(deep=True).sum() / 1024 ** 2\n",
    "    percent = 100 * (start_mem - end_mem) / start_mem\n",
    "    print('Mem. usage decreased from {:5.2f} Mb to {:5.2f} Mb ({:.1f}% reduction)'.format(start_mem, end_mem, percent))\n",
    "    return df\n",
    "\n",
    "##### Functions\n",
    "# 1st function: to graph time series based on TransactionDT vs the variable selected\n",
    "\n",
    "def scatter(column):\n",
    "    fr,no_fr = (train[train['isFraud'] == 1], train[train['isFraud'] == 0])\n",
    "    fig, (ax1, ax2) = plt.subplots(1, 2, figsize=(15,3))\n",
    "    ax1.title.set_text('Histogram ' + column + ' when isFraud == 0')\n",
    "    ax1.set_ylim(train[column].min() - 1,train[column].max() + 1)\n",
    "    ax1.scatter(x = no_fr['TransactionDT'], y = no_fr[column], color = 'blue', marker='o')\n",
    "    ax2.title.set_text('Histogram ' + column + ' when isFraud == 1')\n",
    "    ax2.set_ylim(train[column].min() - 1,train[column].max() + 1)\n",
    "    ax2.scatter(x = fr['TransactionDT'], y = fr[column], color = 'red', marker='o')\n",
    "    plt.show()\n",
    "\n",
    "# 2nd function: to show a ranking of pearson correlation with the variable selected\n",
    "\n",
    "def corr(data,column):\n",
    "    print('Correlation with ' + column)\n",
    "    print(train[data].corrwith(data[column]).abs().sort_values(ascending = False)[1:])\n",
    "\n",
    "# 3rd function: to reduce the groups based on Nans agroupation and pearson correlation\n",
    "\n",
    "def reduce(groups):\n",
    "    result = list()\n",
    "    for values in groups:\n",
    "        maxval = 0\n",
    "        val = values[0]\n",
    "        for value in values:\n",
    "            unique_values = data[value].nunique()\n",
    "            if unique_values > maxval:\n",
    "                maxval = unique_values\n",
    "                val = value\n",
    "        result.append(value)\n",
    "    return result\n",
    "\n",
    "# 4th function: to sort each column in ascending order based on its number\n",
    "\n",
    "def order_finalcolumns(final_Xcolumns):\n",
    "    return sorted(final_Xcolumns, key=lambda x: int(\"\".join([i for i in x if i.isdigit()])))\n"
   ]
  },
  {
   "cell_type": "code",
   "execution_count": 4,
   "id": "04a56146",
   "metadata": {
    "id": "04a56146"
   },
   "outputs": [],
   "source": [
    "#Carregando os dados\n",
    "train_identity = pd.read_csv('train_identity.csv')\n",
    "train_transaction = pd.read_csv('train_transaction.csv')\n",
    "\n",
    "#Efetuar o merge pela coluna TransactionID\n",
    "data = pd.merge(train_transaction, train_identity, on='TransactionID', how='left')\n"
   ]
  },
  {
   "cell_type": "code",
   "execution_count": 5,
   "id": "6ae7e468",
   "metadata": {
    "colab": {
     "base_uri": "https://localhost:8080/"
    },
    "id": "6ae7e468",
    "outputId": "99fa2e73-5ac2-44ca-a248-d4843403fe01"
   },
   "outputs": [
    {
     "name": "stdout",
     "output_type": "stream",
     "text": [
      "CPU times: total: 6.3 s\n",
      "Wall time: 10.1 s\n"
     ]
    }
   ],
   "source": [
    "%%time\n",
    "#Tratamento para melhorar a coluna DeviceInfo\n",
    "data.loc[data['DeviceInfo'].str.contains('SM', na=False), 'DeviceInfo'] = 'Samsung'\n",
    "data.loc[data['DeviceInfo'].str.contains('SAMSUNG', na=False), 'DeviceInfo'] = 'Samsung'\n",
    "data.loc[data['DeviceInfo'].str.contains('GT-', na=False), 'DeviceInfo'] = 'Samsung'\n",
    "data.loc[data['DeviceInfo'].str.contains('Moto G', na=False), 'DeviceInfo'] = 'Motorola'\n",
    "data.loc[data['DeviceInfo'].str.contains('Moto', na=False), 'DeviceInfo'] = 'Motorola'\n",
    "data.loc[data['DeviceInfo'].str.contains('moto', na=False), 'DeviceInfo'] = 'Motorola'\n",
    "data.loc[data['DeviceInfo'].str.contains('LG-', na=False), 'DeviceInfo'] = 'LG'\n",
    "data.loc[data['DeviceInfo'].str.contains('rv:', na=False), 'DeviceInfo'] = 'RV'\n",
    "data.loc[data['DeviceInfo'].str.contains('HUAWEI', na=False), 'DeviceInfo'] = 'Huawei'\n",
    "data.loc[data['DeviceInfo'].str.contains('ALE-', na=False), 'DeviceInfo'] = 'Huawei'\n",
    "data.loc[data['DeviceInfo'].str.contains('-L', na=False), 'DeviceInfo'] = 'Huawei'\n",
    "data.loc[data['DeviceInfo'].str.contains('Blade', na=False), 'DeviceInfo'] = 'ZTE'\n",
    "data.loc[data['DeviceInfo'].str.contains('BLADE', na=False), 'DeviceInfo'] = 'ZTE'\n",
    "data.loc[data['DeviceInfo'].str.contains('Linux', na=False), 'DeviceInfo'] = 'Linux'\n",
    "data.loc[data['DeviceInfo'].str.contains('XT', na=False), 'DeviceInfo'] = 'Sony'\n",
    "data.loc[data['DeviceInfo'].str.contains('HTC', na=False), 'DeviceInfo'] = 'HTC'\n",
    "data.loc[data['DeviceInfo'].str.contains('ASUS', na=False), 'DeviceInfo'] = 'Asus'\n",
    "#Tratamento para unificar e-mail por provider.\n",
    "data.loc[data['P_emaildomain'].str.contains('gmail', na=False), 'P_emaildomain'] = 'Google'\n",
    "data.loc[data['P_emaildomain'].str.contains('hotmail|outlook|msn|live|', na=False), 'P_emaildomain'] = 'Microsoft'\n",
    "data.loc[data['P_emaildomain'].str.contains('yahoo|ymail|att|bellsouth', na=False), 'P_emaildomain'] = 'Yahoo'\n",
    "data.loc[data['P_emaildomain'].str.contains('icloud|me|mac', na=False), 'P_emaildomain'] = 'Apple'\n",
    "data.loc[data['P_emaildomain'].str.contains('aol|aim', na=False), 'P_emaildomain'] = 'AOL'\n",
    "data.loc[data['P_emaildomain'].str.contains('embarqmail|centurylink', na=False), 'P_emaildomain'] = 'CenturyLink'\n",
    "data.loc[data['P_emaildomain'].str.contains('frontier', na=False), 'P_emaildomain'] = 'Frontier'\n",
    "data.loc[data['P_emaildomain'].str.contains('netzero', na=False), 'P_emaildomain'] = 'Netzero'\n",
    "data.loc[data['P_emaildomain'].str.contains('cfl|sc.rr|twc', na=False), 'P_emaildomain'] = 'Spectrum'\n",
    "data.loc[data['P_emaildomain'].str.contains('protonmail|ptd|servicios|roadrunner|juno|windstream|scranton', na=False), 'P_emaildomain'] = 'Others'\n",
    "data.loc[data['P_emaildomain'].str.contains('q.com|web|suddenlink|cableone|prodigy|gmx', na=False), 'P_emaildomain'] = 'Others'\n",
    "\n",
    "data.loc[data['R_emaildomain'].str.contains('gmail', na=False), 'R_emaildomain'] = 'Google'\n",
    "data.loc[data['R_emaildomain'].str.contains('hotmail|outlook|msn|live|', na=False), 'R_emaildomain'] = 'Microsoft'\n",
    "data.loc[data['R_emaildomain'].str.contains('yahoo|ymail|att|bellsouth', na=False), 'R_emaildomain'] = 'Yahoo'\n",
    "data.loc[data['R_emaildomain'].str.contains('icloud|me|mac', na=False), 'R_emaildomain'] = 'Apple'\n",
    "data.loc[data['R_emaildomain'].str.contains('aol|aim', na=False), 'R_emaildomain'] = 'AOL'\n",
    "data.loc[data['R_emaildomain'].str.contains('embarqmail|centurylink', na=False), 'R_emaildomain'] = 'CenturyLink'\n",
    "data.loc[data['R_emaildomain'].str.contains('frontier', na=False), 'R_emaildomain'] = 'Frontier'\n",
    "data.loc[data['R_emaildomain'].str.contains('netzero', na=False), 'R_emaildomain'] = 'Netzero'\n",
    "data.loc[data['R_emaildomain'].str.contains('cfl|sc.rr|twc', na=False), 'R_emaildomain'] = 'Spectrum'\n",
    "data.loc[data['R_emaildomain'].str.contains('protonmail|ptd|servicios|roadrunner|juno|windstream|scranton', na=False), 'R_emaildomain'] = 'Others'\n",
    "data.loc[data['R_emaildomain'].str.contains('q.com|web|suddenlink|cableone|prodigy|gmx', na=False), 'R_emaildomain'] = 'Others'\n",
    "\n",
    "#Temos o TransactionDT que é uma data aleatorio no tempo, irei transformar em Dia,Mes e Ano para facilitar a analise.\n",
    "#data['TransactionDT'] = pd.to_datetime(data['TransactionDT']) - Não ficou bom.\n",
    "\n",
    "# Converter a coluna de datas para componentes numéricos\n",
    "startdate = datetime.datetime.strptime('2017-12-01', '%Y-%m-%d')\n",
    "data['TransactionDT'] = data['TransactionDT'].apply(lambda x: (startdate + datetime.timedelta(seconds = x)))\n",
    "data.insert(4, 'TransHour', data['TransactionDT'].dt.hour)\n",
    "data.insert(5, 'TransDay', data['TransactionDT'].dt.day)\n",
    "data.insert(6, 'TransMonth', data['TransactionDT'].dt.month)\n",
    "data.insert(7, 'TransWeek', data['TransactionDT'].dt.isocalendar().week)\n",
    "data = data.drop(columns=['TransactionDT'])"
   ]
  },
  {
   "cell_type": "code",
   "execution_count": 6,
   "id": "5b810b9a",
   "metadata": {
    "colab": {
     "base_uri": "https://localhost:8080/"
    },
    "id": "5b810b9a",
    "outputId": "d22370f6-d259-4d67-c9e3-a30e9338a887"
   },
   "outputs": [
    {
     "name": "stdout",
     "output_type": "stream",
     "text": [
      "Column TransactionID: int64 -> int32, na_count=0, n_uniq=590540\n",
      "Column isFraud: int64 -> int8, na_count=0, n_uniq=2\n",
      "Column TransactionAmt: float64 -> float32, na_count=0, n_uniq=20902\n",
      "Column TransHour: int64 -> int8, na_count=0, n_uniq=24\n",
      "Column TransDay: int64 -> int8, na_count=0, n_uniq=31\n",
      "Column TransMonth: int64 -> int8, na_count=0, n_uniq=7\n",
      "Column TransWeek: UInt32 -> UInt32, na_count=0, n_uniq=27\n",
      "Column ProductCD: object -> object, na_count=0, n_uniq=5\n",
      "Column card1: int64 -> int16, na_count=0, n_uniq=13553\n",
      "Column card2: float64 -> float16, na_count=8933, n_uniq=501\n",
      "Column card3: float64 -> float16, na_count=1565, n_uniq=115\n",
      "Column card4: object -> object, na_count=1577, n_uniq=5\n",
      "Column card5: float64 -> float16, na_count=4259, n_uniq=120\n",
      "Column card6: object -> object, na_count=1571, n_uniq=5\n",
      "Column addr1: float64 -> float16, na_count=65706, n_uniq=333\n",
      "Column addr2: float64 -> float16, na_count=65706, n_uniq=75\n",
      "Column dist1: float64 -> float32, na_count=352271, n_uniq=2652\n",
      "Column dist2: float64 -> float32, na_count=552913, n_uniq=1752\n",
      "Column P_emaildomain: object -> object, na_count=94456, n_uniq=2\n",
      "Column R_emaildomain: object -> object, na_count=453249, n_uniq=2\n",
      "Column C1: float64 -> int16, na_count=0, n_uniq=1657\n",
      "Column C2: float64 -> int16, na_count=0, n_uniq=1216\n",
      "Column C3: float64 -> int8, na_count=0, n_uniq=27\n",
      "Column C4: float64 -> int16, na_count=0, n_uniq=1260\n",
      "Column C5: float64 -> int16, na_count=0, n_uniq=319\n",
      "Column C6: float64 -> int16, na_count=0, n_uniq=1328\n",
      "Column C7: float64 -> int16, na_count=0, n_uniq=1103\n",
      "Column C8: float64 -> int16, na_count=0, n_uniq=1253\n",
      "Column C9: float64 -> int16, na_count=0, n_uniq=205\n",
      "Column C10: float64 -> int16, na_count=0, n_uniq=1231\n",
      "Column C11: float64 -> int16, na_count=0, n_uniq=1476\n",
      "Column C12: float64 -> int16, na_count=0, n_uniq=1199\n",
      "Column C13: float64 -> int16, na_count=0, n_uniq=1597\n",
      "Column C14: float64 -> int16, na_count=0, n_uniq=1108\n",
      "Column D1: float64 -> float16, na_count=1269, n_uniq=642\n",
      "Column D2: float64 -> float16, na_count=280797, n_uniq=642\n",
      "Column D3: float64 -> float16, na_count=262878, n_uniq=650\n",
      "Column D4: float64 -> float16, na_count=168922, n_uniq=809\n",
      "Column D5: float64 -> float16, na_count=309841, n_uniq=689\n",
      "Column D6: float64 -> float16, na_count=517353, n_uniq=830\n",
      "Column D7: float64 -> float16, na_count=551623, n_uniq=598\n",
      "Column D8: float64 -> float32, na_count=515614, n_uniq=12354\n",
      "Column D9: float64 -> float16, na_count=515614, n_uniq=25\n",
      "Column D10: float64 -> float16, na_count=76022, n_uniq=819\n",
      "Column D11: float64 -> float16, na_count=279287, n_uniq=677\n",
      "Column D12: float64 -> float16, na_count=525823, n_uniq=636\n",
      "Column D13: float64 -> float16, na_count=528588, n_uniq=578\n",
      "Column D14: float64 -> float16, na_count=528353, n_uniq=803\n",
      "Column D15: float64 -> float16, na_count=89113, n_uniq=860\n",
      "Column M1: object -> object, na_count=271100, n_uniq=3\n",
      "Column M2: object -> object, na_count=271100, n_uniq=3\n",
      "Column M3: object -> object, na_count=271100, n_uniq=3\n",
      "Column M4: object -> object, na_count=281444, n_uniq=4\n",
      "Column M5: object -> object, na_count=350482, n_uniq=3\n",
      "Column M6: object -> object, na_count=169360, n_uniq=3\n",
      "Column M7: object -> object, na_count=346265, n_uniq=3\n",
      "Column M8: object -> object, na_count=346252, n_uniq=3\n",
      "Column M9: object -> object, na_count=346252, n_uniq=3\n",
      "Column V1: float64 -> float16, na_count=279287, n_uniq=3\n",
      "Column V2: float64 -> float16, na_count=279287, n_uniq=10\n",
      "Column V3: float64 -> float16, na_count=279287, n_uniq=11\n",
      "Column V4: float64 -> float16, na_count=279287, n_uniq=8\n",
      "Column V5: float64 -> float16, na_count=279287, n_uniq=8\n",
      "Column V6: float64 -> float16, na_count=279287, n_uniq=11\n",
      "Column V7: float64 -> float16, na_count=279287, n_uniq=11\n",
      "Column V8: float64 -> float16, na_count=279287, n_uniq=10\n",
      "Column V9: float64 -> float16, na_count=279287, n_uniq=10\n",
      "Column V10: float64 -> float16, na_count=279287, n_uniq=6\n",
      "Column V11: float64 -> float16, na_count=279287, n_uniq=7\n",
      "Column V12: float64 -> float16, na_count=76073, n_uniq=5\n",
      "Column V13: float64 -> float16, na_count=76073, n_uniq=8\n",
      "Column V14: float64 -> float16, na_count=76073, n_uniq=3\n",
      "Column V15: float64 -> float16, na_count=76073, n_uniq=9\n",
      "Column V16: float64 -> float16, na_count=76073, n_uniq=16\n",
      "Column V17: float64 -> float16, na_count=76073, n_uniq=17\n",
      "Column V18: float64 -> float16, na_count=76073, n_uniq=17\n",
      "Column V19: float64 -> float16, na_count=76073, n_uniq=9\n",
      "Column V20: float64 -> float16, na_count=76073, n_uniq=16\n",
      "Column V21: float64 -> float16, na_count=76073, n_uniq=7\n",
      "Column V22: float64 -> float16, na_count=76073, n_uniq=10\n",
      "Column V23: float64 -> float16, na_count=76073, n_uniq=15\n",
      "Column V24: float64 -> float16, na_count=76073, n_uniq=15\n",
      "Column V25: float64 -> float16, na_count=76073, n_uniq=8\n",
      "Column V26: float64 -> float16, na_count=76073, n_uniq=14\n",
      "Column V27: float64 -> float16, na_count=76073, n_uniq=5\n",
      "Column V28: float64 -> float16, na_count=76073, n_uniq=5\n",
      "Column V29: float64 -> float16, na_count=76073, n_uniq=7\n",
      "Column V30: float64 -> float16, na_count=76073, n_uniq=9\n",
      "Column V31: float64 -> float16, na_count=76073, n_uniq=9\n",
      "Column V32: float64 -> float16, na_count=76073, n_uniq=16\n",
      "Column V33: float64 -> float16, na_count=76073, n_uniq=8\n",
      "Column V34: float64 -> float16, na_count=76073, n_uniq=14\n",
      "Column V35: float64 -> float16, na_count=168969, n_uniq=5\n",
      "Column V36: float64 -> float16, na_count=168969, n_uniq=7\n",
      "Column V37: float64 -> float16, na_count=168969, n_uniq=56\n",
      "Column V38: float64 -> float16, na_count=168969, n_uniq=56\n",
      "Column V39: float64 -> float16, na_count=168969, n_uniq=17\n",
      "Column V40: float64 -> float16, na_count=168969, n_uniq=19\n",
      "Column V41: float64 -> float16, na_count=168969, n_uniq=3\n",
      "Column V42: float64 -> float16, na_count=168969, n_uniq=10\n",
      "Column V43: float64 -> float16, na_count=168969, n_uniq=10\n",
      "Column V44: float64 -> float16, na_count=168969, n_uniq=50\n",
      "Column V45: float64 -> float16, na_count=168969, n_uniq=50\n",
      "Column V46: float64 -> float16, na_count=168969, n_uniq=8\n",
      "Column V47: float64 -> float16, na_count=168969, n_uniq=10\n",
      "Column V48: float64 -> float16, na_count=168969, n_uniq=7\n",
      "Column V49: float64 -> float16, na_count=168969, n_uniq=7\n",
      "Column V50: float64 -> float16, na_count=168969, n_uniq=7\n",
      "Column V51: float64 -> float16, na_count=168969, n_uniq=8\n",
      "Column V52: float64 -> float16, na_count=168969, n_uniq=10\n",
      "Column V53: float64 -> float16, na_count=77096, n_uniq=7\n",
      "Column V54: float64 -> float16, na_count=77096, n_uniq=8\n",
      "Column V55: float64 -> float16, na_count=77096, n_uniq=19\n",
      "Column V56: float64 -> float16, na_count=77096, n_uniq=53\n",
      "Column V57: float64 -> float16, na_count=77096, n_uniq=8\n",
      "Column V58: float64 -> float16, na_count=77096, n_uniq=12\n",
      "Column V59: float64 -> float16, na_count=77096, n_uniq=18\n",
      "Column V60: float64 -> float16, na_count=77096, n_uniq=18\n",
      "Column V61: float64 -> float16, na_count=77096, n_uniq=8\n",
      "Column V62: float64 -> float16, na_count=77096, n_uniq=12\n",
      "Column V63: float64 -> float16, na_count=77096, n_uniq=9\n",
      "Column V64: float64 -> float16, na_count=77096, n_uniq=9\n",
      "Column V65: float64 -> float16, na_count=77096, n_uniq=3\n",
      "Column V66: float64 -> float16, na_count=77096, n_uniq=9\n",
      "Column V67: float64 -> float16, na_count=77096, n_uniq=10\n",
      "Column V68: float64 -> float16, na_count=77096, n_uniq=4\n",
      "Column V69: float64 -> float16, na_count=77096, n_uniq=7\n",
      "Column V70: float64 -> float16, na_count=77096, n_uniq=8\n",
      "Column V71: float64 -> float16, na_count=77096, n_uniq=8\n",
      "Column V72: float64 -> float16, na_count=77096, n_uniq=12\n",
      "Column V73: float64 -> float16, na_count=77096, n_uniq=9\n",
      "Column V74: float64 -> float16, na_count=77096, n_uniq=10\n",
      "Column V75: float64 -> float16, na_count=89164, n_uniq=6\n",
      "Column V76: float64 -> float16, na_count=89164, n_uniq=8\n",
      "Column V77: float64 -> float16, na_count=89164, n_uniq=32\n",
      "Column V78: float64 -> float16, na_count=89164, n_uniq=33\n",
      "Column V79: float64 -> float16, na_count=89164, n_uniq=9\n",
      "Column V80: float64 -> float16, na_count=89164, n_uniq=21\n",
      "Column V81: float64 -> float16, na_count=89164, n_uniq=21\n",
      "Column V82: float64 -> float16, na_count=89164, n_uniq=9\n",
      "Column V83: float64 -> float16, na_count=89164, n_uniq=9\n",
      "Column V84: float64 -> float16, na_count=89164, n_uniq=9\n",
      "Column V85: float64 -> float16, na_count=89164, n_uniq=9\n"
     ]
    },
    {
     "name": "stdout",
     "output_type": "stream",
     "text": [
      "Column V86: float64 -> float16, na_count=89164, n_uniq=32\n",
      "Column V87: float64 -> float16, na_count=89164, n_uniq=32\n",
      "Column V88: float64 -> float16, na_count=89164, n_uniq=3\n",
      "Column V89: float64 -> float16, na_count=89164, n_uniq=4\n",
      "Column V90: float64 -> float16, na_count=89164, n_uniq=7\n",
      "Column V91: float64 -> float16, na_count=89164, n_uniq=8\n",
      "Column V92: float64 -> float16, na_count=89164, n_uniq=9\n",
      "Column V93: float64 -> float16, na_count=89164, n_uniq=9\n",
      "Column V94: float64 -> float16, na_count=89164, n_uniq=4\n",
      "Column V95: float64 -> float16, na_count=314, n_uniq=882\n",
      "Column V96: float64 -> float16, na_count=314, n_uniq=1411\n",
      "Column V97: float64 -> float16, na_count=314, n_uniq=977\n",
      "Column V98: float64 -> float16, na_count=314, n_uniq=14\n",
      "Column V99: float64 -> float16, na_count=314, n_uniq=90\n",
      "Column V100: float64 -> float16, na_count=314, n_uniq=30\n",
      "Column V101: float64 -> float16, na_count=314, n_uniq=871\n",
      "Column V102: float64 -> float16, na_count=314, n_uniq=1286\n",
      "Column V103: float64 -> float16, na_count=314, n_uniq=929\n",
      "Column V104: float64 -> float16, na_count=314, n_uniq=17\n",
      "Column V105: float64 -> float16, na_count=314, n_uniq=101\n",
      "Column V106: float64 -> float16, na_count=314, n_uniq=57\n",
      "Column V107: float64 -> float16, na_count=314, n_uniq=3\n",
      "Column V108: float64 -> float16, na_count=314, n_uniq=9\n",
      "Column V109: float64 -> float16, na_count=314, n_uniq=9\n",
      "Column V110: float64 -> float16, na_count=314, n_uniq=9\n",
      "Column V111: float64 -> float16, na_count=314, n_uniq=11\n",
      "Column V112: float64 -> float16, na_count=314, n_uniq=11\n",
      "Column V113: float64 -> float16, na_count=314, n_uniq=11\n",
      "Column V114: float64 -> float16, na_count=314, n_uniq=8\n",
      "Column V115: float64 -> float16, na_count=314, n_uniq=8\n",
      "Column V116: float64 -> float16, na_count=314, n_uniq=8\n",
      "Column V117: float64 -> float16, na_count=314, n_uniq=5\n",
      "Column V118: float64 -> float16, na_count=314, n_uniq=5\n",
      "Column V119: float64 -> float16, na_count=314, n_uniq=5\n",
      "Column V120: float64 -> float16, na_count=314, n_uniq=5\n",
      "Column V121: float64 -> float16, na_count=314, n_uniq=5\n",
      "Column V122: float64 -> float16, na_count=314, n_uniq=5\n",
      "Column V123: float64 -> float16, na_count=314, n_uniq=15\n",
      "Column V124: float64 -> float16, na_count=314, n_uniq=15\n",
      "Column V125: float64 -> float16, na_count=314, n_uniq=15\n",
      "Column V126: float64 -> float32, na_count=314, n_uniq=10300\n",
      "Column V127: float64 -> float32, na_count=314, n_uniq=24415\n",
      "Column V128: float64 -> float32, na_count=314, n_uniq=14508\n",
      "Column V129: float64 -> float32, na_count=314, n_uniq=1969\n",
      "Column V130: float64 -> float32, na_count=314, n_uniq=12333\n",
      "Column V131: float64 -> float32, na_count=314, n_uniq=4445\n",
      "Column V132: float64 -> float32, na_count=314, n_uniq=6561\n",
      "Column V133: float64 -> float32, na_count=314, n_uniq=9950\n",
      "Column V134: float64 -> float32, na_count=314, n_uniq=8179\n",
      "Column V135: float64 -> float32, na_count=314, n_uniq=3725\n",
      "Column V136: float64 -> float32, na_count=314, n_uniq=4853\n",
      "Column V137: float64 -> float32, na_count=314, n_uniq=4253\n",
      "Column V138: float64 -> float16, na_count=508595, n_uniq=24\n",
      "Column V139: float64 -> float16, na_count=508595, n_uniq=35\n",
      "Column V140: float64 -> float16, na_count=508595, n_uniq=35\n",
      "Column V141: float64 -> float16, na_count=508595, n_uniq=7\n",
      "Column V142: float64 -> float16, na_count=508595, n_uniq=11\n",
      "Column V143: float64 -> float16, na_count=508589, n_uniq=871\n",
      "Column V144: float64 -> float16, na_count=508589, n_uniq=64\n",
      "Column V145: float64 -> float16, na_count=508589, n_uniq=261\n",
      "Column V146: float64 -> float16, na_count=508595, n_uniq=26\n",
      "Column V147: float64 -> float16, na_count=508595, n_uniq=28\n",
      "Column V148: float64 -> float16, na_count=508595, n_uniq=22\n",
      "Column V149: float64 -> float16, na_count=508595, n_uniq=22\n",
      "Column V150: float64 -> float32, na_count=508589, n_uniq=1997\n",
      "Column V151: float64 -> float16, na_count=508589, n_uniq=57\n",
      "Column V152: float64 -> float16, na_count=508589, n_uniq=40\n",
      "Column V153: float64 -> float16, na_count=508595, n_uniq=20\n",
      "Column V154: float64 -> float16, na_count=508595, n_uniq=20\n",
      "Column V155: float64 -> float16, na_count=508595, n_uniq=26\n",
      "Column V156: float64 -> float16, na_count=508595, n_uniq=26\n",
      "Column V157: float64 -> float16, na_count=508595, n_uniq=26\n",
      "Column V158: float64 -> float16, na_count=508595, n_uniq=26\n",
      "Column V159: float64 -> float32, na_count=508589, n_uniq=6664\n",
      "Column V160: float64 -> float32, na_count=508589, n_uniq=9622\n",
      "Column V161: float64 -> float16, na_count=508595, n_uniq=80\n",
      "Column V162: float64 -> float16, na_count=508595, n_uniq=186\n",
      "Column V163: float64 -> float16, na_count=508595, n_uniq=107\n",
      "Column V164: float64 -> float32, na_count=508589, n_uniq=1979\n",
      "Column V165: float64 -> float32, na_count=508589, n_uniq=2548\n",
      "Column V166: float64 -> float32, na_count=508589, n_uniq=988\n",
      "Column V167: float64 -> float16, na_count=450909, n_uniq=874\n",
      "Column V168: float64 -> float16, na_count=450909, n_uniq=966\n",
      "Column V169: float64 -> float16, na_count=450721, n_uniq=21\n",
      "Column V170: float64 -> float16, na_count=450721, n_uniq=50\n",
      "Column V171: float64 -> float16, na_count=450721, n_uniq=63\n",
      "Column V172: float64 -> float16, na_count=450909, n_uniq=33\n",
      "Column V173: float64 -> float16, na_count=450909, n_uniq=9\n",
      "Column V174: float64 -> float16, na_count=450721, n_uniq=10\n",
      "Column V175: float64 -> float16, na_count=450721, n_uniq=16\n",
      "Column V176: float64 -> float16, na_count=450909, n_uniq=50\n",
      "Column V177: float64 -> float16, na_count=450909, n_uniq=863\n",
      "Column V178: float64 -> float16, na_count=450909, n_uniq=1237\n",
      "Column V179: float64 -> float16, na_count=450909, n_uniq=922\n",
      "Column V180: float64 -> float16, na_count=450721, n_uniq=85\n",
      "Column V181: float64 -> float16, na_count=450909, n_uniq=26\n",
      "Column V182: float64 -> float16, na_count=450909, n_uniq=85\n",
      "Column V183: float64 -> float16, na_count=450909, n_uniq=43\n",
      "Column V184: float64 -> float16, na_count=450721, n_uniq=18\n",
      "Column V185: float64 -> float16, na_count=450721, n_uniq=33\n",
      "Column V186: float64 -> float16, na_count=450909, n_uniq=40\n",
      "Column V187: float64 -> float16, na_count=450909, n_uniq=216\n",
      "Column V188: float64 -> float16, na_count=450721, n_uniq=32\n",
      "Column V189: float64 -> float16, na_count=450721, n_uniq=32\n",
      "Column V190: float64 -> float16, na_count=450909, n_uniq=44\n",
      "Column V191: float64 -> float16, na_count=450909, n_uniq=23\n",
      "Column V192: float64 -> float16, na_count=450909, n_uniq=46\n",
      "Column V193: float64 -> float16, na_count=450909, n_uniq=39\n",
      "Column V194: float64 -> float16, na_count=450721, n_uniq=9\n",
      "Column V195: float64 -> float16, na_count=450721, n_uniq=18\n",
      "Column V196: float64 -> float16, na_count=450909, n_uniq=40\n",
      "Column V197: float64 -> float16, na_count=450721, n_uniq=16\n",
      "Column V198: float64 -> float16, na_count=450721, n_uniq=23\n",
      "Column V199: float64 -> float16, na_count=450909, n_uniq=47\n",
      "Column V200: float64 -> float16, na_count=450721, n_uniq=47\n",
      "Column V201: float64 -> float16, na_count=450721, n_uniq=57\n",
      "Column V202: float64 -> float32, na_count=450909, n_uniq=10971\n",
      "Column V203: float64 -> float32, na_count=450909, n_uniq=14952\n",
      "Column V204: float64 -> float32, na_count=450909, n_uniq=12859\n",
      "Column V205: float64 -> float32, na_count=450909, n_uniq=2241\n",
      "Column V206: float64 -> float32, na_count=450909, n_uniq=1781\n",
      "Column V207: float64 -> float32, na_count=450909, n_uniq=3247\n",
      "Column V208: float64 -> float32, na_count=450721, n_uniq=2553\n",
      "Column V209: float64 -> float32, na_count=450721, n_uniq=3452\n",
      "Column V210: float64 -> float32, na_count=450721, n_uniq=2837\n",
      "Column V211: float64 -> float32, na_count=450909, n_uniq=7625\n",
      "Column V212: float64 -> float32, na_count=450909, n_uniq=8869\n",
      "Column V213: float64 -> float32, na_count=450909, n_uniq=8318\n",
      "Column V214: float64 -> float32, na_count=450909, n_uniq=2283\n",
      "Column V215: float64 -> float32, na_count=450909, n_uniq=2748\n",
      "Column V216: float64 -> float32, na_count=450909, n_uniq=2533\n",
      "Column V217: float64 -> float16, na_count=460110, n_uniq=305\n",
      "Column V218: float64 -> float16, na_count=460110, n_uniq=402\n",
      "Column V219: float64 -> float16, na_count=460110, n_uniq=380\n",
      "Column V220: float64 -> float16, na_count=449124, n_uniq=27\n",
      "Column V221: float64 -> float16, na_count=449124, n_uniq=78\n",
      "Column V222: float64 -> float16, na_count=449124, n_uniq=77\n",
      "Column V223: float64 -> float16, na_count=460110, n_uniq=18\n"
     ]
    },
    {
     "name": "stdout",
     "output_type": "stream",
     "text": [
      "Column V224: float64 -> float16, na_count=460110, n_uniq=80\n",
      "Column V225: float64 -> float16, na_count=460110, n_uniq=36\n",
      "Column V226: float64 -> float16, na_count=460110, n_uniq=82\n",
      "Column V227: float64 -> float16, na_count=449124, n_uniq=51\n",
      "Column V228: float64 -> float16, na_count=460110, n_uniq=56\n",
      "Column V229: float64 -> float16, na_count=460110, n_uniq=92\n",
      "Column V230: float64 -> float16, na_count=460110, n_uniq=67\n",
      "Column V231: float64 -> float16, na_count=460110, n_uniq=295\n",
      "Column V232: float64 -> float16, na_count=460110, n_uniq=339\n",
      "Column V233: float64 -> float16, na_count=460110, n_uniq=334\n",
      "Column V234: float64 -> float16, na_count=449124, n_uniq=123\n",
      "Column V235: float64 -> float16, na_count=460110, n_uniq=25\n",
      "Column V236: float64 -> float16, na_count=460110, n_uniq=47\n",
      "Column V237: float64 -> float16, na_count=460110, n_uniq=41\n",
      "Column V238: float64 -> float16, na_count=449124, n_uniq=25\n",
      "Column V239: float64 -> float16, na_count=449124, n_uniq=25\n",
      "Column V240: float64 -> float16, na_count=460110, n_uniq=7\n",
      "Column V241: float64 -> float16, na_count=460110, n_uniq=6\n",
      "Column V242: float64 -> float16, na_count=460110, n_uniq=22\n",
      "Column V243: float64 -> float16, na_count=460110, n_uniq=44\n",
      "Column V244: float64 -> float16, na_count=460110, n_uniq=24\n",
      "Column V245: float64 -> float16, na_count=449124, n_uniq=59\n",
      "Column V246: float64 -> float16, na_count=460110, n_uniq=47\n",
      "Column V247: float64 -> float16, na_count=460110, n_uniq=20\n",
      "Column V248: float64 -> float16, na_count=460110, n_uniq=24\n",
      "Column V249: float64 -> float16, na_count=460110, n_uniq=24\n",
      "Column V250: float64 -> float16, na_count=449124, n_uniq=20\n",
      "Column V251: float64 -> float16, na_count=449124, n_uniq=20\n",
      "Column V252: float64 -> float16, na_count=460110, n_uniq=26\n",
      "Column V253: float64 -> float16, na_count=460110, n_uniq=67\n",
      "Column V254: float64 -> float16, na_count=460110, n_uniq=46\n",
      "Column V255: float64 -> float16, na_count=449124, n_uniq=47\n",
      "Column V256: float64 -> float16, na_count=449124, n_uniq=49\n",
      "Column V257: float64 -> float16, na_count=460110, n_uniq=50\n",
      "Column V258: float64 -> float16, na_count=460110, n_uniq=68\n",
      "Column V259: float64 -> float16, na_count=449124, n_uniq=69\n",
      "Column V260: float64 -> float16, na_count=460110, n_uniq=10\n",
      "Column V261: float64 -> float16, na_count=460110, n_uniq=42\n",
      "Column V262: float64 -> float16, na_count=460110, n_uniq=22\n",
      "Column V263: float64 -> float32, na_count=460110, n_uniq=10423\n",
      "Column V264: float64 -> float32, na_count=460110, n_uniq=13359\n",
      "Column V265: float64 -> float32, na_count=460110, n_uniq=11758\n",
      "Column V266: float64 -> float32, na_count=460110, n_uniq=2179\n",
      "Column V267: float64 -> float32, na_count=460110, n_uniq=3617\n",
      "Column V268: float64 -> float32, na_count=460110, n_uniq=2757\n",
      "Column V269: float64 -> float32, na_count=460110, n_uniq=152\n",
      "Column V270: float64 -> float32, na_count=449124, n_uniq=2341\n",
      "Column V271: float64 -> float32, na_count=449124, n_uniq=2788\n",
      "Column V272: float64 -> float32, na_count=449124, n_uniq=2508\n",
      "Column V273: float64 -> float32, na_count=460110, n_uniq=7178\n",
      "Column V274: float64 -> float32, na_count=460110, n_uniq=8316\n",
      "Column V275: float64 -> float32, na_count=460110, n_uniq=7777\n",
      "Column V276: float64 -> float32, na_count=460110, n_uniq=2264\n",
      "Column V277: float64 -> float32, na_count=460110, n_uniq=2541\n",
      "Column V278: float64 -> float32, na_count=460110, n_uniq=2399\n",
      "Column V279: float64 -> float16, na_count=12, n_uniq=882\n",
      "Column V280: float64 -> float16, na_count=12, n_uniq=976\n",
      "Column V281: float64 -> float16, na_count=1269, n_uniq=24\n",
      "Column V282: float64 -> float16, na_count=1269, n_uniq=34\n",
      "Column V283: float64 -> float16, na_count=1269, n_uniq=63\n",
      "Column V284: float64 -> float16, na_count=12, n_uniq=14\n",
      "Column V285: float64 -> float16, na_count=12, n_uniq=97\n",
      "Column V286: float64 -> float16, na_count=12, n_uniq=10\n",
      "Column V287: float64 -> float16, na_count=12, n_uniq=33\n",
      "Column V288: float64 -> float16, na_count=1269, n_uniq=12\n",
      "Column V289: float64 -> float16, na_count=1269, n_uniq=14\n",
      "Column V290: float64 -> float16, na_count=12, n_uniq=59\n",
      "Column V291: float64 -> float16, na_count=12, n_uniq=220\n",
      "Column V292: float64 -> float16, na_count=12, n_uniq=174\n",
      "Column V293: float64 -> float16, na_count=12, n_uniq=871\n",
      "Column V294: float64 -> float16, na_count=12, n_uniq=1287\n",
      "Column V295: float64 -> float16, na_count=12, n_uniq=929\n",
      "Column V296: float64 -> float16, na_count=1269, n_uniq=95\n",
      "Column V297: float64 -> float16, na_count=12, n_uniq=14\n",
      "Column V298: float64 -> float16, na_count=12, n_uniq=95\n",
      "Column V299: float64 -> float16, na_count=12, n_uniq=51\n",
      "Column V300: float64 -> float16, na_count=1269, n_uniq=13\n",
      "Column V301: float64 -> float16, na_count=1269, n_uniq=15\n",
      "Column V302: float64 -> float16, na_count=12, n_uniq=18\n",
      "Column V303: float64 -> float16, na_count=12, n_uniq=22\n",
      "Column V304: float64 -> float16, na_count=12, n_uniq=18\n",
      "Column V305: float64 -> float16, na_count=12, n_uniq=3\n",
      "Column V306: float64 -> float32, na_count=12, n_uniq=16211\n",
      "Column V307: float64 -> float32, na_count=12, n_uniq=37368\n",
      "Column V308: float64 -> float32, na_count=12, n_uniq=23065\n",
      "Column V309: float64 -> float32, na_count=12, n_uniq=4237\n",
      "Column V310: float64 -> float32, na_count=12, n_uniq=19137\n",
      "Column V311: float64 -> float32, na_count=12, n_uniq=3099\n",
      "Column V312: float64 -> float32, na_count=12, n_uniq=8069\n",
      "Column V313: float64 -> float32, na_count=1269, n_uniq=5530\n",
      "Column V314: float64 -> float32, na_count=1269, n_uniq=11378\n",
      "Column V315: float64 -> float32, na_count=1269, n_uniq=6974\n",
      "Column V316: float64 -> float32, na_count=12, n_uniq=9815\n",
      "Column V317: float64 -> float32, na_count=12, n_uniq=15185\n",
      "Column V318: float64 -> float32, na_count=12, n_uniq=12310\n",
      "Column V319: float64 -> float32, na_count=12, n_uniq=4800\n",
      "Column V320: float64 -> float32, na_count=12, n_uniq=6440\n",
      "Column V321: float64 -> float32, na_count=12, n_uniq=5561\n",
      "Column V322: float64 -> float16, na_count=508189, n_uniq=882\n",
      "Column V323: float64 -> float16, na_count=508189, n_uniq=1412\n",
      "Column V324: float64 -> float16, na_count=508189, n_uniq=977\n",
      "Column V325: float64 -> float16, na_count=508189, n_uniq=14\n",
      "Column V326: float64 -> float16, na_count=508189, n_uniq=46\n",
      "Column V327: float64 -> float16, na_count=508189, n_uniq=20\n",
      "Column V328: float64 -> float16, na_count=508189, n_uniq=17\n",
      "Column V329: float64 -> float16, na_count=508189, n_uniq=101\n",
      "Column V330: float64 -> float16, na_count=508189, n_uniq=57\n",
      "Column V331: float64 -> float32, na_count=508189, n_uniq=1759\n",
      "Column V332: float64 -> float32, na_count=508189, n_uniq=2454\n",
      "Column V333: float64 -> float32, na_count=508189, n_uniq=1972\n",
      "Column V334: float64 -> float32, na_count=508189, n_uniq=144\n",
      "Column V335: float64 -> float32, na_count=508189, n_uniq=673\n",
      "Column V336: float64 -> float32, na_count=508189, n_uniq=357\n",
      "Column V337: float64 -> float32, na_count=508189, n_uniq=255\n",
      "Column V338: float64 -> float32, na_count=508189, n_uniq=381\n",
      "Column V339: float64 -> float32, na_count=508189, n_uniq=335\n",
      "Column id_01: float64 -> float16, na_count=446307, n_uniq=78\n",
      "Column id_02: float64 -> float32, na_count=449668, n_uniq=115656\n",
      "Column id_03: float64 -> float16, na_count=524216, n_uniq=25\n",
      "Column id_04: float64 -> float16, na_count=524216, n_uniq=16\n",
      "Column id_05: float64 -> float16, na_count=453675, n_uniq=94\n",
      "Column id_06: float64 -> float16, na_count=453675, n_uniq=102\n",
      "Column id_07: float64 -> float16, na_count=585385, n_uniq=85\n",
      "Column id_08: float64 -> float16, na_count=585385, n_uniq=95\n",
      "Column id_09: float64 -> float16, na_count=515614, n_uniq=47\n",
      "Column id_10: float64 -> float16, na_count=515614, n_uniq=63\n",
      "Column id_11: float64 -> float32, na_count=449562, n_uniq=366\n",
      "Column id_12: object -> object, na_count=446307, n_uniq=3\n",
      "Column id_13: float64 -> float16, na_count=463220, n_uniq=55\n",
      "Column id_14: float64 -> float16, na_count=510496, n_uniq=26\n",
      "Column id_15: object -> object, na_count=449555, n_uniq=4\n",
      "Column id_16: object -> object, na_count=461200, n_uniq=3\n",
      "Column id_17: float64 -> float16, na_count=451171, n_uniq=105\n",
      "Column id_18: float64 -> float16, na_count=545427, n_uniq=19\n",
      "Column id_19: float64 -> float16, na_count=451222, n_uniq=523\n",
      "Column id_20: float64 -> float16, na_count=451279, n_uniq=395\n",
      "Column id_21: float64 -> float16, na_count=585381, n_uniq=491\n",
      "Column id_22: float64 -> float16, na_count=585371, n_uniq=26\n",
      "Column id_23: object -> object, na_count=585371, n_uniq=4\n"
     ]
    },
    {
     "name": "stdout",
     "output_type": "stream",
     "text": [
      "Column id_24: float64 -> float16, na_count=585793, n_uniq=13\n",
      "Column id_25: float64 -> float16, na_count=585408, n_uniq=342\n",
      "Column id_26: float64 -> float16, na_count=585377, n_uniq=96\n",
      "Column id_27: object -> object, na_count=585371, n_uniq=3\n",
      "Column id_28: object -> object, na_count=449562, n_uniq=3\n",
      "Column id_29: object -> object, na_count=449562, n_uniq=3\n",
      "Column id_30: object -> object, na_count=512975, n_uniq=76\n",
      "Column id_31: object -> object, na_count=450258, n_uniq=131\n",
      "Column id_32: float64 -> float16, na_count=512954, n_uniq=5\n",
      "Column id_33: object -> object, na_count=517251, n_uniq=261\n",
      "Column id_34: object -> object, na_count=512735, n_uniq=5\n",
      "Column id_35: object -> object, na_count=449555, n_uniq=3\n",
      "Column id_36: object -> object, na_count=449555, n_uniq=3\n",
      "Column id_37: object -> object, na_count=449555, n_uniq=3\n",
      "Column id_38: object -> object, na_count=449555, n_uniq=3\n",
      "Column DeviceType: object -> object, na_count=449730, n_uniq=3\n",
      "Column DeviceInfo: object -> object, na_count=471874, n_uniq=736\n",
      "Mem. usage decreased from 2582.68 Mb to 1302.57 Mb (49.6% reduction)\n"
     ]
    }
   ],
   "source": [
    "#data = data.replace(np.nan, 0)\n",
    "#Efetuo redução de memoria.\n",
    "data = reduce_mem_usage_sd(data, verbose=True)"
   ]
  },
  {
   "cell_type": "code",
   "execution_count": 7,
   "id": "6c5837e4",
   "metadata": {
    "colab": {
     "base_uri": "https://localhost:8080/"
    },
    "id": "6c5837e4",
    "outputId": "d6be48a9-97c3-40f3-91e5-dc488c572820"
   },
   "outputs": [
    {
     "data": {
      "text/plain": [
       "['TransactionID',\n",
       " 'isFraud',\n",
       " 'TransactionAmt',\n",
       " 'TransHour',\n",
       " 'TransDay',\n",
       " 'TransMonth',\n",
       " 'TransWeek',\n",
       " 'ProductCD',\n",
       " 'card1',\n",
       " 'card2',\n",
       " 'card3',\n",
       " 'card4',\n",
       " 'card5',\n",
       " 'card6',\n",
       " 'addr1',\n",
       " 'addr2',\n",
       " 'dist1',\n",
       " 'dist2',\n",
       " 'P_emaildomain',\n",
       " 'R_emaildomain']"
      ]
     },
     "execution_count": 7,
     "metadata": {},
     "output_type": "execute_result"
    }
   ],
   "source": [
    "columns= list(data.columns[:20])\n",
    "columns"
   ]
  },
  {
   "cell_type": "code",
   "execution_count": 8,
   "id": "69e80f7b",
   "metadata": {
    "colab": {
     "base_uri": "https://localhost:8080/"
    },
    "id": "69e80f7b",
    "outputId": "652c5f8c-1b22-4e08-900e-b4e1194f5e63"
   },
   "outputs": [
    {
     "name": "stdout",
     "output_type": "stream",
     "text": [
      "TransactionID NaNs: 0 | 0.00%\n",
      "isFraud NaNs: 0 | 0.00%\n",
      "TransactionAmt NaNs: 0 | 0.00%\n",
      "TransHour NaNs: 0 | 0.00%\n",
      "TransDay NaNs: 0 | 0.00%\n",
      "TransMonth NaNs: 0 | 0.00%\n",
      "TransWeek NaNs: 0 | 0.00%\n",
      "ProductCD NaNs: 0 | 0.00%\n",
      "card1 NaNs: 0 | 0.00%\n",
      "card2 NaNs: 8933 | 1.51%\n",
      "card3 NaNs: 1565 | 0.27%\n",
      "card4 NaNs: 1577 | 0.27%\n",
      "card5 NaNs: 4259 | 0.72%\n",
      "card6 NaNs: 1571 | 0.27%\n",
      "addr1 NaNs: 65706 | 11.13%\n",
      "addr2 NaNs: 65706 | 11.13%\n",
      "dist1 NaNs: 352271 | 59.65%\n",
      "dist2 NaNs: 552913 | 93.63%\n",
      "P_emaildomain NaNs: 94456 | 15.99%\n",
      "R_emaildomain NaNs: 453249 | 76.75%\n"
     ]
    }
   ],
   "source": [
    "for col in columns:\n",
    "    print(f'{col} NaNs: {data[col].isna().sum()} | {data[col].isna().sum()/data.shape[0]:.2%}')"
   ]
  },
  {
   "cell_type": "code",
   "execution_count": 9,
   "id": "9f6eba3b",
   "metadata": {
    "colab": {
     "base_uri": "https://localhost:8080/"
    },
    "id": "9f6eba3b",
    "outputId": "f7adc0b8-4422-4cb4-8c52-5124dfcff083"
   },
   "outputs": [
    {
     "name": "stdout",
     "output_type": "stream",
     "text": [
      "Final Transaction columns: ['TransactionID', 'isFraud', 'TransactionAmt', 'TransHour', 'TransDay', 'TransMonth', 'TransWeek', 'ProductCD', 'card1', 'card2', 'card3', 'card4', 'card5', 'card6', 'addr1', 'addr2', 'dist1', 'P_emaildomain']\n"
     ]
    }
   ],
   "source": [
    "# If we look closely to % NaNs data, most of them have low number of missing information. We are keeping all the columns where % NaNs < 0.7\n",
    "\n",
    "final_transactioncolumns = list()\n",
    "for col in columns:\n",
    "    if data[col].isna().sum()/data.shape[0] < 0.7:\n",
    "        final_transactioncolumns.append(col)\n",
    "print('Final Transaction columns:',final_transactioncolumns)"
   ]
  },
  {
   "cell_type": "code",
   "execution_count": 10,
   "id": "ccd44db8",
   "metadata": {
    "colab": {
     "base_uri": "https://localhost:8080/"
    },
    "id": "ccd44db8",
    "outputId": "e56eaa69-5cd1-4759-94eb-edec66b7bf19"
   },
   "outputs": [
    {
     "name": "stdout",
     "output_type": "stream",
     "text": [
      "Final C columns: ['C13', 'C3', 'C9']\n"
     ]
    }
   ],
   "source": [
    "##### Based on pearson correlation, we grouped together the columns with corr > 0.7\n",
    "\n",
    "reduce_groups = [['C1','C11','C2','C6','C8','C4','C10','C14','C12','C7','C13'], ['C3'], ['C5','C9']]\n",
    "\n",
    "result = reduce(reduce_groups)\n",
    "print('Final C columns:',result)\n",
    "final_ccolumns = result\n"
   ]
  },
  {
   "cell_type": "code",
   "execution_count": 11,
   "id": "c5b4cfa8",
   "metadata": {
    "colab": {
     "base_uri": "https://localhost:8080/"
    },
    "id": "c5b4cfa8",
    "outputId": "666faf5a-5199-4074-8b65-a19ba68d1f05"
   },
   "outputs": [
    {
     "name": "stdout",
     "output_type": "stream",
     "text": [
      "Final D columns: ['D5', 'D8', 'D9']\n"
     ]
    }
   ],
   "source": [
    "reduce_groups = [['D3','D7','D5'], ['D8'], ['D9']]\n",
    "\n",
    "result = reduce(reduce_groups)\n",
    "print('Final D columns:',result)\n",
    "final_dcolumns = result"
   ]
  },
  {
   "cell_type": "code",
   "execution_count": 12,
   "id": "6b2314e9",
   "metadata": {
    "id": "6b2314e9"
   },
   "outputs": [],
   "source": [
    "final_vcolumns = list()\n",
    "reduce_groups = ['V1'], ['V2','V3'], ['V4','V5'], ['V6','V7'], ['V8','V9']\n",
    "\n",
    "result = reduce(reduce_groups)\n",
    "final_vcolumns.extend(result)"
   ]
  },
  {
   "cell_type": "code",
   "execution_count": 13,
   "id": "92fff623",
   "metadata": {
    "id": "92fff623"
   },
   "outputs": [],
   "source": [
    "reduce_groups = [['V12','V13'], ['V14'], ['V15','V16','V33','V34','V31','V32','V21','V22','V17','V18'], ['V19','V20'],['V23','V24'],['V25','V26'],['V27','V28'],['V29','V30']]\n",
    "\n",
    "result = reduce(reduce_groups)\n",
    "final_vcolumns.extend(result)"
   ]
  },
  {
   "cell_type": "code",
   "execution_count": 14,
   "id": "82333b7c",
   "metadata": {
    "id": "82333b7c"
   },
   "outputs": [],
   "source": [
    "reduce_groups = [['V35','V36'], ['V37','V38'], ['V39','V40','V42','V43','V50','V51','V52'], ['V41'], ['V44','V45'],['V46','V47'],['V48','V49']]\n",
    "\n",
    "result = reduce(reduce_groups)\n",
    "final_vcolumns.extend(result)"
   ]
  },
  {
   "cell_type": "code",
   "execution_count": 15,
   "id": "d92a3903",
   "metadata": {
    "colab": {
     "base_uri": "https://localhost:8080/"
    },
    "id": "d92a3903",
    "outputId": "08b5c4e7-f5fa-43de-9fa5-3c1a39443350"
   },
   "outputs": [
    {
     "name": "stdout",
     "output_type": "stream",
     "text": [
      "Final V_Group4 columns: ['V54', 'V56', 'V60', 'V62', 'V65', 'V67', 'V68', 'V70']\n"
     ]
    }
   ],
   "source": [
    "reduce_groups = [['V53','V54'], ['V55','V56'], ['V57','V58','V71','V73','V72','V74','V63','V59','V64','V60'],['V61','V62'],['V65'],\n",
    "                ['V66','V67'],['V68'], ['V69','V70']]\n",
    "\n",
    "result = reduce(reduce_groups)\n",
    "final_vcolumns.extend(result)\n",
    "print('Final V_Group4 columns:',result)"
   ]
  },
  {
   "cell_type": "code",
   "execution_count": 16,
   "id": "5fa61376",
   "metadata": {
    "colab": {
     "base_uri": "https://localhost:8080/"
    },
    "id": "5fa61376",
    "outputId": "9861d250-f49f-44cb-c6dc-8b18ce00cf93"
   },
   "outputs": [
    {
     "name": "stdout",
     "output_type": "stream",
     "text": [
      "Final V_Group6 columns: ['V101', 'V103', 'V98', 'V105', 'V116', 'V118', 'V121', 'V124', 'V132', 'V134', 'V130', 'V136']\n"
     ]
    }
   ],
   "source": [
    "reduce_groups = [['V95','V101'],['V96','V102','V97','V99','V100','V103'],['V98'],['V104','V106','V105'],['V108','V110','V114','V109','V111','V113','V112','V115','V116'],\n",
    "                ['V117','V119','V118'],['V120','V122','V121'],['V123','V125','V124'],['V126','V128','V132'],['V127','V133','V134'],['V129','V131','V130'],\n",
    "                ['V135','V137','V136']]\n",
    "\n",
    "result = reduce(reduce_groups)\n",
    "final_vcolumns.extend(result)\n",
    "print('Final V_Group6 columns:',result)"
   ]
  },
  {
   "cell_type": "code",
   "execution_count": 17,
   "id": "86ce370b",
   "metadata": {
    "colab": {
     "base_uri": "https://localhost:8080/"
    },
    "id": "86ce370b",
    "outputId": "e02aa2aa-8b17-4a14-d065-4c0f5b231b44"
   },
   "outputs": [
    {
     "name": "stdout",
     "output_type": "stream",
     "text": [
      "Final V_Group7 columns: ['V138', 'V140', 'V142', 'V166', 'V147', 'V158', 'V162']\n"
     ]
    }
   ],
   "source": [
    "reduce_groups = [['V138'],['V139','V140'],['V141','V142'],['V143','V159','V150','V151','V165','V144','V145','V160','V152','V164','V166'],['V146','V147'],\n",
    "                ['V148','V155','V149','V153','V154','V156','V157','V158'],['V161','V163','V162']]\n",
    "\n",
    "result = reduce(reduce_groups)\n",
    "final_vcolumns.extend(result)\n",
    "print('Final V_Group7 columns:',result)"
   ]
  },
  {
   "cell_type": "code",
   "execution_count": 18,
   "id": "4a2e2175",
   "metadata": {
    "colab": {
     "base_uri": "https://localhost:8080/"
    },
    "id": "4a2e2175",
    "outputId": "827ef006-2d9a-43ab-a4e1-7428fb2368b2"
   },
   "outputs": [
    {
     "name": "stdout",
     "output_type": "stream",
     "text": [
      "Final V_Group8 columns: ['V173', 'V204', 'V214']\n"
     ]
    }
   ],
   "source": [
    "reduce_groups = ['V167','V176','V199','V179','V190','V177','V186','V168','V172','V178','V196','V191','V204','V213','V207','V173'],['V181','V183','V182',\n",
    "                'V187','V192','V203','V215','V178','V193','V212','V204'],['V202','V216','V204','V214']\n",
    "\n",
    "result = reduce(reduce_groups)\n",
    "final_vcolumns.extend(result)\n",
    "print('Final V_Group8 columns:',result)"
   ]
  },
  {
   "cell_type": "code",
   "execution_count": 19,
   "id": "2016f0c1",
   "metadata": {
    "colab": {
     "base_uri": "https://localhost:8080/"
    },
    "id": "2016f0c1",
    "outputId": "2e6a0cd2-1e65-47d4-ab30-992a2fde9cc9"
   },
   "outputs": [
    {
     "name": "stdout",
     "output_type": "stream",
     "text": [
      "Final V_Group9 columns: ['V169', 'V201', 'V175', 'V180', 'V185', 'V189', 'V198', 'V209']\n"
     ]
    }
   ],
   "source": [
    "reduce_groups = [['V169'],['V170','V171','V200','V201'],['V174','V175'],['V180'],['V184','V185'],['V188','V189'],['V194','V197','V195','V198'],\n",
    "                ['V208','V210','V209']]\n",
    "\n",
    "result = reduce(reduce_groups)\n",
    "final_vcolumns.extend(result)\n",
    "print('Final V_Group9 columns:',result)"
   ]
  },
  {
   "cell_type": "code",
   "execution_count": 20,
   "id": "6f8d2a5a",
   "metadata": {
    "colab": {
     "base_uri": "https://localhost:8080/"
    },
    "id": "6f8d2a5a",
    "outputId": "debcfd06-d1ef-4b91-dd37-c3a9d73aa44e"
   },
   "outputs": [
    {
     "name": "stdout",
     "output_type": "stream",
     "text": [
      "Final V_Group10 columns: ['V246', 'V260', 'V278', 'V237', 'V241', 'V244', 'V273', 'V266']\n"
     ]
    }
   ],
   "source": [
    "reduce_groups = [['V217','V231','V233','V228','V257','V219','V232','V246'],['V218','V229','V224','V225','V253','V243','V254','V248','V264','V261','V249','V258',\n",
    "                'V267','V274','V230','V236','V247','V262','V223','V252','V260'],['V226','V263','V276','V278'], ['V235','V237'],['V240','V241'],['V242','V244'],\n",
    "                ['V265','V275','V277','V268','V273'],['V269','V266']]\n",
    "\n",
    "result = reduce(reduce_groups)\n",
    "final_vcolumns.extend(result)\n",
    "print('Final V_Group10 columns:',result)"
   ]
  },
  {
   "cell_type": "code",
   "execution_count": 21,
   "id": "ad8ce8c7",
   "metadata": {
    "colab": {
     "base_uri": "https://localhost:8080/"
    },
    "id": "ad8ce8c7",
    "outputId": "e9ddca4c-4155-40d9-cd61-8edfb35fd946"
   },
   "outputs": [
    {
     "name": "stdout",
     "output_type": "stream",
     "text": [
      "Final V_Group11 columns: ['V220', 'V256', 'V234', 'V239', 'V251', 'V271']\n"
     ]
    }
   ],
   "source": [
    "reduce_groups = ['V220'],['V221','V222','V259','V245','V227','V255','V256'],['V234'],['V238','V239'],['V250','V251'],['V270','V272','V271']\n",
    "\n",
    "result = reduce(reduce_groups)\n",
    "final_vcolumns.extend(result)\n",
    "print('Final V_Group11 columns:',result)"
   ]
  },
  {
   "cell_type": "code",
   "execution_count": 22,
   "id": "c940056d",
   "metadata": {
    "colab": {
     "base_uri": "https://localhost:8080/"
    },
    "id": "c940056d",
    "outputId": "d791d8ed-4c3c-48a6-ae63-8f1c85c016e6"
   },
   "outputs": [
    {
     "name": "stdout",
     "output_type": "stream",
     "text": [
      "Final V_Group12 columns: ['V318', 'V284', 'V287', 'V286', 'V298', 'V303', 'V305', 'V319', 'V310', 'V321']\n"
     ]
    }
   ],
   "source": [
    "reduce_groups = [['V279','V293','V290','V280','V295','V294','V292','V291','V317','V307','V318'],['V284'],['V285','V287'],['V286'],['V297','V299','V298'],\n",
    "                ['V302','V304','V303'],['V305'],['V306','V308','V316','V319'],['V309','V311','V312','V310'],['V320','V321']]\n",
    "\n",
    "result = reduce(reduce_groups)\n",
    "final_vcolumns.extend(result)\n",
    "print('Final V_Group12 columns:',result)"
   ]
  },
  {
   "cell_type": "code",
   "execution_count": 23,
   "id": "f1fb7ee8",
   "metadata": {
    "colab": {
     "base_uri": "https://localhost:8080/"
    },
    "id": "f1fb7ee8",
    "outputId": "bf8c4e37-fa46-431c-c7d1-f2e84c02f699"
   },
   "outputs": [
    {
     "name": "stdout",
     "output_type": "stream",
     "text": [
      "Final V_Group13 columns: ['V283', 'V289', 'V296', 'V301', 'V314']\n"
     ]
    }
   ],
   "source": [
    "reduce_groups = ['V281','V282','V283'],['V288','V289'],['V296'],['V300','V301'],['V313','V315','V314']\n",
    "\n",
    "result = reduce(reduce_groups)\n",
    "final_vcolumns.extend(result)\n",
    "print('Final V_Group13 columns:',result)"
   ]
  },
  {
   "cell_type": "code",
   "execution_count": 24,
   "id": "5b584c96",
   "metadata": {
    "colab": {
     "base_uri": "https://localhost:8080/"
    },
    "id": "5b584c96",
    "outputId": "b1358c82-2a60-4cbe-cdb8-2cb5d77043c9"
   },
   "outputs": [
    {
     "name": "stdout",
     "output_type": "stream",
     "text": [
      "Final V_Group14 columns: ['V324', 'V326', 'V325', 'V329', 'V337', 'V335']\n"
     ]
    }
   ],
   "source": [
    "reduce_groups = ['V322','V324'],['V323','V326','V324','V327','V326'],['V325'],['V328','V330','V329'],['V331','V333','V332','V337'],['V334','V336','V335']\n",
    "\n",
    "result = reduce(reduce_groups)\n",
    "final_vcolumns.extend(result)\n",
    "print('Final V_Group14 columns:',result)"
   ]
  },
  {
   "cell_type": "code",
   "execution_count": 25,
   "id": "62c23163",
   "metadata": {
    "colab": {
     "base_uri": "https://localhost:8080/"
    },
    "id": "62c23163",
    "outputId": "bbbcd152-9416-492f-9b15-a98127c0a5a7"
   },
   "outputs": [
    {
     "name": "stdout",
     "output_type": "stream",
     "text": [
      "Final M columns: ['M1', 'M3', 'M4', 'M5', 'M6', 'M8', 'M9']\n"
     ]
    }
   ],
   "source": [
    "#Utilizei uma estrategia de agrupamento por correlação de Person, quando > 0.7, para tentar maximizar o dataset\n",
    "reduce_groups = ['M1'], ['M2','M3'], ['M4'], ['M5'], ['M6'], ['M7', 'M8'], ['M9']\n",
    "\n",
    "result = reduce(reduce_groups)\n",
    "print('Final M columns:',result)\n",
    "final_mcolumns = result"
   ]
  },
  {
   "cell_type": "code",
   "execution_count": 26,
   "id": "98369034",
   "metadata": {
    "id": "98369034"
   },
   "outputs": [],
   "source": [
    "final_ccolumns = order_finalcolumns(final_ccolumns)\n",
    "final_dcolumns = order_finalcolumns(final_dcolumns)\n",
    "final_mcolumns = order_finalcolumns(final_mcolumns)\n",
    "final_vcolumns = order_finalcolumns(final_vcolumns)"
   ]
  },
  {
   "cell_type": "code",
   "execution_count": 27,
   "id": "f8cc5528",
   "metadata": {
    "colab": {
     "base_uri": "https://localhost:8080/"
    },
    "id": "f8cc5528",
    "outputId": "6965651c-f45c-4cd3-bca1-90465bbeb1d1"
   },
   "outputs": [
    {
     "name": "stdout",
     "output_type": "stream",
     "text": [
      "Final Transaction columns (18): ['TransactionID', 'isFraud', 'TransactionAmt', 'TransHour', 'TransDay', 'TransMonth', 'TransWeek', 'ProductCD', 'card1', 'card2', 'card3', 'card4', 'card5', 'card6', 'addr1', 'addr2', 'dist1', 'P_emaildomain']\n",
      " \n",
      "Final C columns (3): ['C3', 'C9', 'C13']\n",
      " \n",
      "Final D columns (3): ['D5', 'D8', 'D9']\n",
      " \n",
      "Final M columns (7): ['M1', 'M3', 'M4', 'M5', 'M6', 'M8', 'M9']\n",
      " \n",
      "Final V columns (93): ['V1', 'V3', 'V5', 'V7', 'V9', 'V13', 'V14', 'V18', 'V20', 'V24', 'V26', 'V28', 'V30', 'V36', 'V38', 'V41', 'V45', 'V47', 'V49', 'V52', 'V54', 'V56', 'V60', 'V62', 'V65', 'V67', 'V68', 'V70', 'V98', 'V101', 'V103', 'V105', 'V116', 'V118', 'V121', 'V124', 'V130', 'V132', 'V134', 'V136', 'V138', 'V140', 'V142', 'V147', 'V158', 'V162', 'V166', 'V169', 'V173', 'V175', 'V180', 'V185', 'V189', 'V198', 'V201', 'V204', 'V209', 'V214', 'V220', 'V234', 'V237', 'V239', 'V241', 'V244', 'V246', 'V251', 'V256', 'V260', 'V266', 'V271', 'V273', 'V278', 'V283', 'V284', 'V286', 'V287', 'V289', 'V296', 'V298', 'V301', 'V303', 'V305', 'V310', 'V314', 'V318', 'V319', 'V321', 'V324', 'V325', 'V326', 'V329', 'V335', 'V337']\n",
      " \n",
      "##################################################\n",
      " \n",
      "Final columns: ['TransactionID', 'isFraud', 'TransactionAmt', 'TransHour', 'TransDay', 'TransMonth', 'TransWeek', 'ProductCD', 'card1', 'card2', 'card3', 'card4', 'card5', 'card6', 'addr1', 'addr2', 'dist1', 'P_emaildomain', 'C3', 'C9', 'C13', 'D5', 'D8', 'D9', 'M1', 'M3', 'M4', 'M5', 'M6', 'M8', 'M9', 'V1', 'V3', 'V5', 'V7', 'V9', 'V13', 'V14', 'V18', 'V20', 'V24', 'V26', 'V28', 'V30', 'V36', 'V38', 'V41', 'V45', 'V47', 'V49', 'V52', 'V54', 'V56', 'V60', 'V62', 'V65', 'V67', 'V68', 'V70', 'V98', 'V101', 'V103', 'V105', 'V116', 'V118', 'V121', 'V124', 'V130', 'V132', 'V134', 'V136', 'V138', 'V140', 'V142', 'V147', 'V158', 'V162', 'V166', 'V169', 'V173', 'V175', 'V180', 'V185', 'V189', 'V198', 'V201', 'V204', 'V209', 'V214', 'V220', 'V234', 'V237', 'V239', 'V241', 'V244', 'V246', 'V251', 'V256', 'V260', 'V266', 'V271', 'V273', 'V278', 'V283', 'V284', 'V286', 'V287', 'V289', 'V296', 'V298', 'V301', 'V303', 'V305', 'V310', 'V314', 'V318', 'V319', 'V321', 'V324', 'V325', 'V326', 'V329', 'V335', 'V337']\n",
      " \n",
      "Lenght of final columns: 124\n"
     ]
    }
   ],
   "source": [
    "##### Final columns\n",
    "\n",
    "print(f'Final Transaction columns ({len(final_transactioncolumns)}): {final_transactioncolumns}')\n",
    "print(' ')\n",
    "print(f'Final C columns ({len(final_ccolumns)}): {final_ccolumns}')\n",
    "print(' ')\n",
    "print(f'Final D columns ({len(final_dcolumns)}): {final_dcolumns}')\n",
    "print(' ')\n",
    "print(f'Final M columns ({len(final_mcolumns)}): {final_mcolumns}')\n",
    "print(' ')\n",
    "print(f'Final V columns ({len(final_vcolumns)}): {final_vcolumns}')\n",
    "print(' ')\n",
    "\n",
    "print('#' * 50)\n",
    "\n",
    "final_columns = final_transactioncolumns + final_ccolumns + final_dcolumns + final_mcolumns + final_vcolumns\n",
    "print(' ')\n",
    "print('Final columns:', final_columns)\n",
    "print(' ')\n",
    "print('Lenght of final columns:', len(final_columns))"
   ]
  },
  {
   "cell_type": "code",
   "execution_count": 28,
   "id": "EDEdMpxmWQQh",
   "metadata": {
    "id": "EDEdMpxmWQQh"
   },
   "outputs": [],
   "source": [
    "#data2 = data\n",
    "# Define o tamanho do subconjunto\n",
    "#n_samples = 80000\n",
    "\n",
    "# Realiza a amostragem aleatória\n",
    "#df_sample = data.sample(n_samples)\n",
    "#data = df_sample"
   ]
  },
  {
   "cell_type": "code",
   "execution_count": 29,
   "id": "RSdsumXzYThv",
   "metadata": {
    "colab": {
     "base_uri": "https://localhost:8080/",
     "height": 478
    },
    "id": "RSdsumXzYThv",
    "outputId": "ac79e864-ac57-4987-8296-11ecf04677af"
   },
   "outputs": [
    {
     "ename": "NameError",
     "evalue": "name 'dddddata' is not defined",
     "output_type": "error",
     "traceback": [
      "\u001b[1;31m---------------------------------------------------------------------------\u001b[0m",
      "\u001b[1;31mNameError\u001b[0m                                 Traceback (most recent call last)",
      "Cell \u001b[1;32mIn[29], line 1\u001b[0m\n\u001b[1;32m----> 1\u001b[0m \u001b[43mdddddata\u001b[49m\n",
      "\u001b[1;31mNameError\u001b[0m: name 'dddddata' is not defined"
     ]
    }
   ],
   "source": [
    "dddddata"
   ]
  },
  {
   "cell_type": "code",
   "execution_count": null,
   "id": "a30bf6a0",
   "metadata": {
    "colab": {
     "base_uri": "https://localhost:8080/"
    },
    "id": "a30bf6a0",
    "outputId": "fd5e17a2-9135-4b74-859c-9881e079e6cf"
   },
   "outputs": [],
   "source": [
    "%%time\n",
    "data.fillna('UNK')\n",
    "labelencoder = LabelEncoder()\n",
    "for col in data.columns:\n",
    "        data[col] = labelencoder.fit_transform(data[col].astype(str))"
   ]
  },
  {
   "cell_type": "code",
   "execution_count": 30,
   "id": "5e8d0b5c",
   "metadata": {
    "id": "5e8d0b5c"
   },
   "outputs": [],
   "source": [
    "#del data\n",
    "df_filtrado = data[final_columns]"
   ]
  },
  {
   "cell_type": "code",
   "execution_count": 32,
   "id": "95b0b3a6",
   "metadata": {},
   "outputs": [
    {
     "name": "stdout",
     "output_type": "stream",
     "text": [
      "Colunas Finais:\n",
      "TransactionID\n",
      "isFraud\n",
      "TransactionAmt\n",
      "TransHour\n",
      "TransDay\n",
      "TransMonth\n",
      "TransWeek\n",
      "ProductCD\n",
      "card1\n",
      "card2\n",
      "card3\n",
      "card4\n",
      "card5\n",
      "card6\n",
      "addr1\n",
      "addr2\n",
      "dist1\n",
      "P_emaildomain\n",
      "C3\n",
      "C9\n",
      "C13\n",
      "D5\n",
      "D8\n",
      "D9\n",
      "M1\n",
      "M3\n",
      "M4\n",
      "M5\n",
      "M6\n",
      "M8\n",
      "M9\n",
      "V1\n",
      "V3\n",
      "V5\n",
      "V7\n",
      "V9\n",
      "V13\n",
      "V14\n",
      "V18\n",
      "V20\n",
      "V24\n",
      "V26\n",
      "V28\n",
      "V30\n",
      "V36\n",
      "V38\n",
      "V41\n",
      "V45\n",
      "V47\n",
      "V49\n",
      "V52\n",
      "V54\n",
      "V56\n",
      "V60\n",
      "V62\n",
      "V65\n",
      "V67\n",
      "V68\n",
      "V70\n",
      "V98\n",
      "V101\n",
      "V103\n",
      "V105\n",
      "V116\n",
      "V118\n",
      "V121\n",
      "V124\n",
      "V130\n",
      "V132\n",
      "V134\n",
      "V136\n",
      "V138\n",
      "V140\n",
      "V142\n",
      "V147\n",
      "V158\n",
      "V162\n",
      "V166\n",
      "V169\n",
      "V173\n",
      "V175\n",
      "V180\n",
      "V185\n",
      "V189\n",
      "V198\n",
      "V201\n",
      "V204\n",
      "V209\n",
      "V214\n",
      "V220\n",
      "V234\n",
      "V237\n",
      "V239\n",
      "V241\n",
      "V244\n",
      "V246\n",
      "V251\n",
      "V256\n",
      "V260\n",
      "V266\n",
      "V271\n",
      "V273\n",
      "V278\n",
      "V283\n",
      "V284\n",
      "V286\n",
      "V287\n",
      "V289\n",
      "V296\n",
      "V298\n",
      "V301\n",
      "V303\n",
      "V305\n",
      "V310\n",
      "V314\n",
      "V318\n",
      "V319\n",
      "V321\n",
      "V324\n",
      "V325\n",
      "V326\n",
      "V329\n",
      "V335\n",
      "V337\n"
     ]
    }
   ],
   "source": [
    "colunas = ['TransactionID', 'isFraud', 'TransactionAmt', 'TransHour', 'TransDay', 'TransMonth', 'TransWeek', 'ProductCD', 'card1', 'card2', 'card3', 'card4', 'card5', 'card6', 'addr1', 'addr2', 'dist1', 'P_emaildomain', 'C3', 'C9', 'C13', 'D5', 'D8', 'D9', 'M1', 'M3', 'M4', 'M5', 'M6', 'M8', 'M9', 'V1', 'V3', 'V5', 'V7', 'V9', 'V13', 'V14', 'V18', 'V20', 'V24', 'V26', 'V28', 'V30', 'V36', 'V38', 'V41', 'V45', 'V47', 'V49', 'V52', 'V54', 'V56', 'V60', 'V62', 'V65', 'V67', 'V68', 'V70', 'V98', 'V101', 'V103', 'V105', 'V116', 'V118', 'V121', 'V124', 'V130', 'V132', 'V134', 'V136', 'V138', 'V140', 'V142', 'V147', 'V158', 'V162', 'V166', 'V169', 'V173', 'V175', 'V180', 'V185', 'V189', 'V198', 'V201', 'V204', 'V209', 'V214', 'V220', 'V234', 'V237', 'V239', 'V241', 'V244', 'V246', 'V251', 'V256', 'V260', 'V266', 'V271', 'V273', 'V278', 'V283', 'V284', 'V286', 'V287', 'V289', 'V296', 'V298', 'V301', 'V303', 'V305', 'V310', 'V314', 'V318', 'V319', 'V321', 'V324', 'V325', 'V326', 'V329', 'V335', 'V337']\n",
    "\n",
    "# Imprimir as colunas em linhas\n",
    "print(\"Colunas Finais:\")\n",
    "print(\"\\n\".join(colunas))\n"
   ]
  },
  {
   "cell_type": "code",
   "execution_count": null,
   "id": "a5aa1287",
   "metadata": {
    "id": "a5aa1287"
   },
   "outputs": [],
   "source": [
    "\n",
    "# Separate input features and output feature\n",
    "X_train = df_filtrado.drop(columns = ['isFraud'])       # input features\n",
    "y_train  = df_filtrado.isFraud      # output feature"
   ]
  },
  {
   "cell_type": "code",
   "execution_count": null,
   "id": "06c2087c",
   "metadata": {
    "id": "06c2087c"
   },
   "outputs": [],
   "source": [
    "scaler = StandardScaler()\n",
    "X_train = scaler.fit_transform(X_train)"
   ]
  },
  {
   "cell_type": "code",
   "execution_count": null,
   "id": "234af78f",
   "metadata": {
    "id": "234af78f"
   },
   "outputs": [],
   "source": [
    "from sklearn.decomposition import PCA\n",
    "\n",
    "# Crie uma instância do PCA e especifique a quantidade de variância explicada desejada (por exemplo, 0.95)\n",
    "pca = PCA(n_components=0.95, random_state=0)\n",
    "\n",
    "# Ajuste o PCA aos seus dados escalados\n",
    "principalComponents = pca.fit_transform(X_train)\n",
    "\n",
    "# Crie um DataFrame com os componentes principais\n",
    "principalDF = pd.DataFrame(data=principalComponents, columns=[f\"PC{x}\" for x in range(1, principalComponents.shape[1] + 1)])\n"
   ]
  },
  {
   "cell_type": "code",
   "execution_count": null,
   "id": "119e2370",
   "metadata": {
    "colab": {
     "base_uri": "https://localhost:8080/",
     "height": 443
    },
    "id": "119e2370",
    "outputId": "423e90b6-91b3-400e-a648-848106978d5b"
   },
   "outputs": [],
   "source": [
    "principalDF"
   ]
  },
  {
   "cell_type": "code",
   "execution_count": null,
   "id": "1213dabb",
   "metadata": {
    "colab": {
     "base_uri": "https://localhost:8080/",
     "height": 428
    },
    "id": "1213dabb",
    "outputId": "92c88103-601a-48f2-d2bc-524dd8ece446"
   },
   "outputs": [],
   "source": [
    "# Calcular a taxa de variância explicada cumulativa\n",
    "explained_variance_ratio = np.cumsum(pca.explained_variance_ratio_)\n",
    "\n",
    "# Plotar a taxa de variância explicada\n",
    "plt.figure(figsize=(8, 4))\n",
    "plt.plot(range(1, len(explained_variance_ratio) + 1), explained_variance_ratio, marker='o')\n",
    "plt.axhline(y=0.95, color='r', linestyle='--', label='95% Variance Explained')\n",
    "plt.xlabel('Número de Componentes Principais')\n",
    "plt.ylabel('Taxa de Variância Explicada Cumulativa')\n",
    "plt.title('Análise de PCA - Taxa de Variância Explicada')\n",
    "plt.grid(True)\n",
    "plt.legend()\n",
    "plt.show()\n",
    "\n",
    "# Selecionar as componentes principais automaticamente com n_components=0.95\n",
    "print(f\"Número de componentes principais selecionados: {pca.n_components_}\")"
   ]
  },
  {
   "cell_type": "code",
   "execution_count": null,
   "id": "56f66ca7",
   "metadata": {
    "id": "56f66ca7"
   },
   "outputs": [],
   "source": [
    "smote = SMOTE(random_state=42)\n",
    "X_train_resampled, y_train_resampled = smote.fit_resample(principalComponents, y_train)\n"
   ]
  },
  {
   "cell_type": "code",
   "execution_count": null,
   "id": "79e60ab4",
   "metadata": {
    "colab": {
     "base_uri": "https://localhost:8080/"
    },
    "id": "79e60ab4",
    "outputId": "64c285cb-c253-4477-aaf0-899bd3165f42"
   },
   "outputs": [],
   "source": [
    "del df_filtrado, data, train_identity, train_transaction,principalDF\n",
    "gc.collect()"
   ]
  },
  {
   "cell_type": "code",
   "execution_count": null,
   "id": "46fa5b79",
   "metadata": {
    "id": "46fa5b79"
   },
   "outputs": [],
   "source": [
    "# Definindo o modelo de rede neural\n",
    "def create_model(input_shape, learning_rate=0.001):\n",
    "  # Defina a nova forma de entrada com base na dimensionalidade após a PCA\n",
    "    input_shape = (41,)\n",
    "    model = Sequential()\n",
    "    model.add(Dense(64, activation='relu', input_shape=input_shape))\n",
    "    model.add(Dropout(0.5))\n",
    "    model.add(Dense(1, activation='sigmoid'))\n",
    "\n",
    "    optimizer = tf.keras.optimizers.Adam(learning_rate=learning_rate)\n",
    "\n",
    "    model.compile(optimizer=optimizer, loss='binary_crossentropy', metrics=['accuracy'])\n",
    "    return model"
   ]
  },
  {
   "cell_type": "code",
   "execution_count": null,
   "id": "3af8a7bf",
   "metadata": {
    "id": "3af8a7bf"
   },
   "outputs": [],
   "source": [
    "# Função para calcular métricas em cada dobra\n",
    "def calculate_metrics(y_true, y_pred):\n",
    "    auc = roc_auc_score(y_true, y_pred)\n",
    "    acc = accuracy_score(y_true, y_pred)\n",
    "    cf = confusion_matrix(y_true, y_pred)\n",
    "    precision = precision_score(y_true, y_pred)\n",
    "    recall = recall_score(y_true, y_pred)\n",
    "    f1 = f1_score(y_true, y_pred)\n",
    "    return auc, acc, cf, precision, recall, f1\n"
   ]
  },
  {
   "cell_type": "code",
   "execution_count": null,
   "id": "b3ab728c",
   "metadata": {
    "id": "b3ab728c"
   },
   "outputs": [],
   "source": [
    "from scikeras.wrappers import KerasClassifier\n",
    "\n",
    "# Especificando a forma de entrada com base no número de recursos em seus dados de entrada\n",
    "input_shape = (X_train_resampled.shape[1],)\n",
    "\n",
    "# Criando o classificador Keras\n",
    "model = KerasClassifier(build_fn=create_model, verbose=0, input_shape=input_shape)\n",
    "\n",
    "# Aplicando estratificação k-fold\n",
    "kfold = StratifiedKFold(n_splits=5, shuffle=True, random_state=42)\n",
    "\n",
    "# Definindo os parâmetros para busca em grade\n",
    "param_grid = {\n",
    "    'epochs': [5,10],\n",
    "    'batch_size': [32,64,128]\n",
    "}\n",
    "\n",
    "# Listas para armazenar métricas em cada dobra\n",
    "auc_scores = []\n",
    "accuracy_scores = []\n",
    "confusion_matrices = []\n",
    "precision_scores = []\n",
    "recall_scores = []\n",
    "f1_scores = []"
   ]
  },
  {
   "cell_type": "code",
   "execution_count": null,
   "id": "ed92e153",
   "metadata": {
    "colab": {
     "base_uri": "https://localhost:8080/"
    },
    "id": "ed92e153",
    "outputId": "658f2c81-7fb5-4038-cdc8-2ca9e85101be"
   },
   "outputs": [],
   "source": [
    "# Listas para armazenar métricas em cada dobra\n",
    "results = []\n",
    "\n",
    "# Loop sobre as dobras da validação cruzada\n",
    "for train_idx, val_idx in kfold.split(X_train_resampled, y_train_resampled):\n",
    "    X_train_fold, X_val_fold = X_train_resampled[train_idx], X_train_resampled[val_idx]\n",
    "    y_train_fold, y_val_fold = y_train_resampled[train_idx], y_train_resampled[val_idx]\n",
    "\n",
    "\n",
    "    # Realizando busca aleatória de hiperparâmetros\n",
    "    random_search = RandomizedSearchCV(estimator=model, param_distributions=param_grid,\n",
    "                                       n_iter=3, cv=kfold, scoring='accuracy',\n",
    "                                       error_score='raise', n_jobs=-1)\n",
    "    random_search.fit(X_train_fold, y_train_fold)\n",
    "\n",
    "    # Obtendo o melhor modelo após a busca aleatória\n",
    "    best_model = random_search.best_estimator_\n",
    "\n",
    "    # Realizando previsões no conjunto de validação\n",
    "    y_val_pred = best_model.predict(X_val_fold)\n",
    "\n",
    "  # Calcule métricas para esta dobra\n",
    "    auc, acc, cf, precision, recall, f1 = calculate_metrics(y_val_fold, y_val_pred)\n",
    "\n",
    "    # Armazene métricas\n",
    "    auc_scores.append(auc)\n",
    "    accuracy_scores.append(acc)\n",
    "    confusion_matrices.append(cf)\n",
    "    precision_scores.append(precision)\n",
    "    recall_scores.append(recall)\n",
    "    f1_scores.append(f1)\n",
    "\n",
    "print(\"Terminou\")"
   ]
  },
  {
   "cell_type": "code",
   "execution_count": null,
   "id": "c35e60fc",
   "metadata": {
    "colab": {
     "base_uri": "https://localhost:8080/"
    },
    "id": "c35e60fc",
    "outputId": "2a3f3d4b-8a1c-4b50-dc3a-2e9401522a4d"
   },
   "outputs": [],
   "source": [
    "# Imprimindo os melhores parâmetros encontrados\n",
    "print(\"Melhores parâmetros encontrados:\")\n",
    "print(random_search.best_params_)\n",
    "\n"
   ]
  },
  {
   "cell_type": "code",
   "execution_count": null,
   "id": "66527b1d",
   "metadata": {
    "colab": {
     "base_uri": "https://localhost:8080/",
     "height": 638
    },
    "id": "66527b1d",
    "outputId": "06a14451-66f5-43b7-e80a-77d423a072fa"
   },
   "outputs": [],
   "source": [
    "# Calculando média das métricas ao longo de todas as dobras\n",
    "mean_auc = np.mean(auc_scores)\n",
    "mean_accuracy = np.mean(accuracy_scores)\n",
    "mean_confusion_matrix = np.mean(confusion_matrices, axis=0)\n",
    "mean_precision = np.mean(precision_scores)\n",
    "mean_recall = np.mean(recall_scores)\n",
    "mean_f1 = np.mean(f1_scores)\n",
    "\n",
    "# Plotando as métricas\n",
    "plt.figure(figsize=(12, 8))\n",
    "\n",
    "# Plot da Curva ROC\n",
    "plt.subplot(2, 2, 1)\n",
    "mean_fpr, mean_tpr, _ = roc_curve(y_val_fold, y_val_pred)\n",
    "plt.plot(mean_fpr, mean_tpr, color='b', lw=2, label=f'Mean ROC (AUC = {mean_auc:.2f})')\n",
    "plt.plot([0, 1], [0, 1], color='gray', linestyle='--')\n",
    "plt.xlabel('Taxa de Falsos Positivos')\n",
    "plt.ylabel('Taxa de Verdadeiros Positivos')\n",
    "plt.title('Curva ROC Média')\n",
    "plt.legend(loc='lower right')\n",
    "\n",
    "# Plot da Acurácia\n",
    "plt.subplot(2, 2, 2)\n",
    "accuracy_values = np.array(accuracy_scores)\n",
    "plt.bar(range(len(accuracy_values)), accuracy_values, color='g', alpha=0.7)\n",
    "plt.xlabel('Dobra da Validação Cruzada')\n",
    "plt.ylabel('Acurácia')\n",
    "plt.title(f'Acurácia em cada Dobra (Média = {mean_accuracy:.2f})')\n",
    "\n",
    "# Plot da Precisão (Precision)\n",
    "plt.subplot(2, 2, 3)\n",
    "precision_values = np.array(precision_scores)\n",
    "plt.bar(range(len(precision_values)), precision_values, color='r', alpha=0.7)\n",
    "plt.xlabel('Dobra da Validação Cruzada')\n",
    "plt.ylabel('Precisão')\n",
    "plt.title(f'Precisão em cada Dobra (Média = {mean_precision:.2f})')\n",
    "\n",
    "# Plot do Recall\n",
    "plt.subplot(2, 2, 4)\n",
    "recall_values = np.array(recall_scores)\n",
    "plt.bar(range(len(recall_values)), recall_values, color='m', alpha=0.7)\n",
    "plt.xlabel('Dobra da Validação Cruzada')\n",
    "plt.ylabel('Recall')\n",
    "plt.title(f'Recall em cada Dobra (Média = {mean_recall:.2f})')\n",
    "\n",
    "plt.tight_layout()\n",
    "plt.show()\n",
    "\n",
    "# Matriz de Confusão Média\n",
    "print(\"Média da Matriz de Confusão:\")\n",
    "print(mean_confusion_matrix)\n",
    "\n",
    "# Métrica F1-Score\n",
    "print(f\"Média do F1-Score: {mean_f1:.2f}\")"
   ]
  }
 ],
 "metadata": {
  "accelerator": "GPU",
  "colab": {
   "gpuType": "V100",
   "provenance": []
  },
  "kernelspec": {
   "display_name": "Python 3 (ipykernel)",
   "language": "python",
   "name": "python3"
  },
  "language_info": {
   "codemirror_mode": {
    "name": "ipython",
    "version": 3
   },
   "file_extension": ".py",
   "mimetype": "text/x-python",
   "name": "python",
   "nbconvert_exporter": "python",
   "pygments_lexer": "ipython3",
   "version": "3.10.9"
  }
 },
 "nbformat": 4,
 "nbformat_minor": 5
}
